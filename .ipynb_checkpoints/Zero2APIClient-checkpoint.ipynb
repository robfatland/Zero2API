{
 "cells": [
  {
   "cell_type": "markdown",
   "metadata": {},
   "source": [
    "# Zero2API Client\n",
    "\n",
    "## Overview\n",
    "\n",
    "\n",
    "Our purpose here is to illustrate data access (query) against an openly published table: 26 baboons \n",
    "with position fixes (in meters) every two seconds for a day, approximately. We have two forms of \n",
    "access: A basic table interface and a 'derived product' interface. The latter calculates the relative\n",
    "dispersion of the baboon troop. \n",
    "\n",
    "\n",
    "The basic table-based API is used first. We'll call it `baboon1`. It supports queries over the four\n",
    "table columns: time range, x-coordinate, y-coordinate (so a spatial bounding box) and individual identifier. \n",
    "We ignore the bounding box for this demonstration.\n",
    "\n",
    "\n",
    "The second ('derived product') API was built separately from the first. In fact it makes use of the first \n",
    "`baboon1` interface to get its data. This is what we call *API composition*: Rather than make the basic \n",
    "API more complicated -- for example as we imagine new interesting calculations -- we push or compartmentalize \n",
    "the new calculation into other APIs.\n",
    "\n",
    "\n",
    "### First (basic) API examples"
   ]
  },
  {
   "cell_type": "code",
   "execution_count": 30,
   "metadata": {},
   "outputs": [],
   "source": [
    "# libraries used for talking with the two APIs\n",
    "import pandas as pd\n",
    "import requests"
   ]
  },
  {
   "cell_type": "code",
   "execution_count": 34,
   "metadata": {},
   "outputs": [
    {
     "name": "stdout",
     "output_type": "stream",
     "text": [
      "https://rlu4ch9a57.execute-api.us-west-2.amazonaws.com/default/baboon1?indiv=10&table=false&t0=9:00:00&t1=9:00:22\n"
     ]
    },
    {
     "data": {
      "text/html": [
       "<div>\n",
       "<style scoped>\n",
       "    .dataframe tbody tr th:only-of-type {\n",
       "        vertical-align: middle;\n",
       "    }\n",
       "\n",
       "    .dataframe tbody tr th {\n",
       "        vertical-align: top;\n",
       "    }\n",
       "\n",
       "    .dataframe thead th {\n",
       "        text-align: right;\n",
       "    }\n",
       "</style>\n",
       "<table border=\"1\" class=\"dataframe\">\n",
       "  <thead>\n",
       "    <tr style=\"text-align: right;\">\n",
       "      <th></th>\n",
       "      <th>indiv</th>\n",
       "      <th>time</th>\n",
       "      <th>x</th>\n",
       "      <th>y</th>\n",
       "    </tr>\n",
       "  </thead>\n",
       "  <tbody>\n",
       "    <tr>\n",
       "      <th>0</th>\n",
       "      <td>10</td>\n",
       "      <td>9:00:00</td>\n",
       "      <td>300.463922</td>\n",
       "      <td>-405.358183</td>\n",
       "    </tr>\n",
       "    <tr>\n",
       "      <th>1</th>\n",
       "      <td>10</td>\n",
       "      <td>9:00:02</td>\n",
       "      <td>299.873931</td>\n",
       "      <td>-405.413842</td>\n",
       "    </tr>\n",
       "    <tr>\n",
       "      <th>2</th>\n",
       "      <td>10</td>\n",
       "      <td>9:00:04</td>\n",
       "      <td>299.228279</td>\n",
       "      <td>-405.658740</td>\n",
       "    </tr>\n",
       "    <tr>\n",
       "      <th>3</th>\n",
       "      <td>10</td>\n",
       "      <td>9:00:06</td>\n",
       "      <td>298.849794</td>\n",
       "      <td>-406.204193</td>\n",
       "    </tr>\n",
       "    <tr>\n",
       "      <th>4</th>\n",
       "      <td>10</td>\n",
       "      <td>9:00:08</td>\n",
       "      <td>298.827531</td>\n",
       "      <td>-406.794174</td>\n",
       "    </tr>\n",
       "    <tr>\n",
       "      <th>5</th>\n",
       "      <td>10</td>\n",
       "      <td>9:00:10</td>\n",
       "      <td>298.916586</td>\n",
       "      <td>-407.206047</td>\n",
       "    </tr>\n",
       "    <tr>\n",
       "      <th>6</th>\n",
       "      <td>10</td>\n",
       "      <td>9:00:12</td>\n",
       "      <td>298.916586</td>\n",
       "      <td>-407.339628</td>\n",
       "    </tr>\n",
       "    <tr>\n",
       "      <th>7</th>\n",
       "      <td>10</td>\n",
       "      <td>9:00:14</td>\n",
       "      <td>298.894322</td>\n",
       "      <td>-407.350760</td>\n",
       "    </tr>\n",
       "    <tr>\n",
       "      <th>8</th>\n",
       "      <td>10</td>\n",
       "      <td>9:00:16</td>\n",
       "      <td>298.894322</td>\n",
       "      <td>-407.395286</td>\n",
       "    </tr>\n",
       "    <tr>\n",
       "      <th>9</th>\n",
       "      <td>10</td>\n",
       "      <td>9:00:18</td>\n",
       "      <td>298.827531</td>\n",
       "      <td>-407.617921</td>\n",
       "    </tr>\n",
       "    <tr>\n",
       "      <th>10</th>\n",
       "      <td>10</td>\n",
       "      <td>9:00:20</td>\n",
       "      <td>298.571497</td>\n",
       "      <td>-407.996399</td>\n",
       "    </tr>\n",
       "    <tr>\n",
       "      <th>11</th>\n",
       "      <td>10</td>\n",
       "      <td>9:00:22</td>\n",
       "      <td>298.226407</td>\n",
       "      <td>-408.274691</td>\n",
       "    </tr>\n",
       "  </tbody>\n",
       "</table>\n",
       "</div>"
      ],
      "text/plain": [
       "    indiv     time           x           y\n",
       "0      10  9:00:00  300.463922 -405.358183\n",
       "1      10  9:00:02  299.873931 -405.413842\n",
       "2      10  9:00:04  299.228279 -405.658740\n",
       "3      10  9:00:06  298.849794 -406.204193\n",
       "4      10  9:00:08  298.827531 -406.794174\n",
       "5      10  9:00:10  298.916586 -407.206047\n",
       "6      10  9:00:12  298.916586 -407.339628\n",
       "7      10  9:00:14  298.894322 -407.350760\n",
       "8      10  9:00:16  298.894322 -407.395286\n",
       "9      10  9:00:18  298.827531 -407.617921\n",
       "10     10  9:00:20  298.571497 -407.996399\n",
       "11     10  9:00:22  298.226407 -408.274691"
      ]
     },
     "execution_count": 34,
     "metadata": {},
     "output_type": "execute_result"
    }
   ],
   "source": [
    "# use the 'baboons1' interface to get 11 rows of data\n",
    "\n",
    "indiv = 10              # there are at least 38 GPS collars; we have here data for only 26 of them \n",
    "table = 'false'         # tabular data flag false means 'send the result as JSON'\n",
    "t0 = '9:00:00'          # Time range begins at 2 minutes 52 seconds; duration 32 seconds\n",
    "t1 = '9:00:22'          #   but only 22 seconds of data are returned\n",
    "\n",
    "baseURL = 'https://rlu4ch9a57.execute-api.us-west-2.amazonaws.com/default/baboon1'\n",
    "url     = baseURL + '?indiv={}&table={}&t0={}&t1={}'.format(indiv,table,t0,t1)\n",
    "a=pd.read_json(url)     # the url contains the details of the query; issued here\n",
    "a                       # the response is a pandas DataFrame with 11 rows of data"
   ]
  },
  {
   "cell_type": "code",
   "execution_count": 44,
   "metadata": {},
   "outputs": [
    {
     "name": "stdout",
     "output_type": "stream",
     "text": [
      "<class 'pandas.core.frame.DataFrame'> \n",
      "\n",
      "     indiv     time           x           y\n",
      "0      10  0:03:04 -778.263144  428.061810\n",
      "1      10  0:03:06 -778.207484  428.095205\n",
      "2      10  0:03:08 -777.884659  428.351235\n",
      "3      10  0:03:10 -777.795603  428.395762\n",
      "4      10  0:03:12 -777.328063  428.362367\n",
      "5      10  0:03:14 -777.072029  428.262181\n",
      "6      10  0:03:16 -776.059025  428.707449\n",
      "7      10  0:03:18 -775.112812  429.008006\n",
      "8      10  0:03:20 -774.500557  429.130454\n",
      "9      10  0:03:22 -773.220387  429.798357\n",
      "10     10  0:03:24 -773.220387  429.653645 \n",
      "\n",
      " RangeIndex(start=0, stop=11, step=1) \n",
      "\n",
      " Index(['indiv', 'time', 'x', 'y'], dtype='object') \n",
      "\n",
      " 0     0:03:04\n",
      "1     0:03:06\n",
      "2     0:03:08\n",
      "3     0:03:10\n",
      "4     0:03:12\n",
      "5     0:03:14\n",
      "6     0:03:16\n",
      "7     0:03:18\n",
      "8     0:03:20\n",
      "9     0:03:22\n",
      "10    0:03:24\n",
      "Name: time, dtype: object \n",
      "\n",
      " 0   -778.263144\n",
      "1   -778.207484\n",
      "2   -777.884659\n",
      "Name: x, dtype: float64\n"
     ]
    }
   ],
   "source": [
    "# This illustrates some pandas DataFrame attributes\n",
    "\n",
    "print(type(a), '\\n\\n', a, '\\n\\n', a.index, '\\n\\n', a.columns, '\\n\\n', a['time'], '\\n\\n', a['x'][0:3])"
   ]
  },
  {
   "cell_type": "code",
   "execution_count": 45,
   "metadata": {},
   "outputs": [],
   "source": [
    "# test cell: try various types of query including bounding box (not working yet)\n",
    "\n",
    "indiv = 10\n",
    "table = 'false'\n",
    "t0 = '0:02:52'\n",
    "t1 = '0:03:24'\n",
    "x0 = -770.\n",
    "x1 = -780.\n",
    "y0 =  430.\n",
    "y1 =  420.\n",
    "\n",
    "# full scan\n",
    "# url = baseURL + '?indiv={}&table={}&t0={}&t1={}&x0={}&x1={}&y0={}&y1={}'.format(indiv,table,t0,t1,x0,x1,y1,y0)\n",
    "\n",
    "# scan sans indiv\n",
    "# url = baseURL + '?table={}&t0={}&t1={}&x0={}&x1={}&y0={}&y1={}'.format(table,t0,t1,x0,x1,y1,y0)\n",
    "\n",
    "# query indiv and time: Working\n",
    "# url = baseURL + '?indiv={}&table={}&t0={}&t1={}'.format(indiv,table,t0,t1)\n",
    "\n",
    "# url = baseURL + '?table={}&t0={}&t1={}'.format(table,t0,t1)\n",
    "# url = baseURL + '?indiv={}&table={}'.format(indiv,table)\n",
    "\n",
    "# a=pd.read_json(url)\n",
    "# print(url, '\\n\\n', a)"
   ]
  },
  {
   "cell_type": "markdown",
   "metadata": {},
   "source": [
    "### Second (moment of inertia) API example"
   ]
  },
  {
   "cell_type": "code",
   "execution_count": 46,
   "metadata": {},
   "outputs": [
    {
     "name": "stdout",
     "output_type": "stream",
     "text": [
      "moi is 10.30867843517405 from 775 locations\n"
     ]
    }
   ],
   "source": [
    "# obtain one moment of inertia value for the entire troupe using one minute of data\n",
    "\n",
    "urlcomp = 'https://ycg3xmhjwj.execute-api.us-west-2.amazonaws.com/default/babooncomposition'\n",
    "t0 = '11:00:00'\n",
    "t1 = '11:01:00'\n",
    "url= urlcomp + '?moi=true&t0={}&t1={}'.format(t0,t1)\n",
    "a = requests.get(url)\n",
    "print(a.content.decode('utf-8'))"
   ]
  },
  {
   "cell_type": "code",
   "execution_count": 47,
   "metadata": {},
   "outputs": [
    {
     "name": "stdout",
     "output_type": "stream",
     "text": [
      "moi is 0.0 from 0 locations\n"
     ]
    }
   ],
   "source": [
    "# test a bad query (the times t0 and t1 are not usable)\n",
    "#   this should produce 'zero' or some sort of fail signal\n",
    "\n",
    "urlcomp = 'https://ycg3xmhjwj.execute-api.us-west-2.amazonaws.com/default/babooncomposition'\n",
    "t0 = 'abcd'\n",
    "t1 = 'efgh'\n",
    "url= urlcomp + '?moi=true&t0={}&t1={}'.format(t0,t1)\n",
    "a = requests.get(url)\n",
    "print(a.content.decode('utf-8'))"
   ]
  },
  {
   "cell_type": "code",
   "execution_count": 48,
   "metadata": {},
   "outputs": [
    {
     "name": "stdout",
     "output_type": "stream",
     "text": [
      "[47.24668210047696, 47.71861072775954, 48.92386733276165, 49.34812811013475, 48.8155080002324, 47.06645781119527, 49.71762649918903, 70.1851986629111, 84.94120700100285, 78.46260152031512, 66.99084135228593, 74.55004855452188, 86.66621643361388, 92.59470487945826, 90.57328670073204, 74.01396790676765, 55.93187417612399, 32.35153076898543, 20.589211909522685, 16.512057140423554]\n"
     ]
    }
   ],
   "source": [
    "# Loop over one hour in three-minute intervals to produce 20 moments of inertia\n",
    "\n",
    "urlcomp = 'https://ycg3xmhjwj.execute-api.us-west-2.amazonaws.com/default/babooncomposition'\n",
    "b=[]\n",
    "for i in range(20):\n",
    "    mymin0 = i * 3\n",
    "    mymin1 = mymin0 + 3\n",
    "    if mymin0 < 10: mymin0string = '0' + str(mymin0)\n",
    "    else:           mymin0string = str(mymin0)\n",
    "    if mymin1 < 10: mymin1string = '0' + str(mymin1)\n",
    "    else:           mymin1string = str(mymin1)\n",
    "    t0 = '4:' + mymin0string + ':00'\n",
    "    t1 = '4:' + mymin1string + ':00'\n",
    "    if t1 == '4:60:00': t1 = '5:00:00'\n",
    "    url= urlcomp + '?moi=true&t0={}&t1={}'.format(t0,t1)\n",
    "    a = requests.get(url)\n",
    "    b.append(float(a.content.decode(\"utf-8\").split(' ')[2]))\n",
    "\n",
    "print(b)"
   ]
  },
  {
   "cell_type": "code",
   "execution_count": 32,
   "metadata": {},
   "outputs": [],
   "source": [
    "# write as text file the accumulated moi values\n",
    "\n",
    "with open('hour4_3min_moi_values.txt', 'w') as f:\n",
    "    for item in b: f.write(\"%s\\n\" % item)"
   ]
  },
  {
   "cell_type": "code",
   "execution_count": 27,
   "metadata": {},
   "outputs": [
    {
     "name": "stdout",
     "output_type": "stream",
     "text": [
      "0.0,0.0,0,0,0.0\n"
     ]
    }
   ],
   "source": [
    "# obtain one moment of inertia value for the entire troupe using one minute of data\n",
    "import requests\n",
    "urlcomp = 'https://ycg3xmhjwj.execute-api.us-west-2.amazonaws.com/default/babooncomposition'\n",
    "t0 = '9:00:00'       # notice these do not begin with '09' but rather just '9'\n",
    "t1 = '9:05:00'\n",
    "t2 = '9:05:00'\n",
    "t3 = '9:10:00'\n",
    "\n",
    "url= urlcomp + '?t0={}&t1={}&t2={}&t3={}'.format(t0,t1,t2,t3)\n",
    "a = requests.get(url)\n",
    "print(a.content.decode('utf-8'))"
   ]
  },
  {
   "cell_type": "code",
   "execution_count": 25,
   "metadata": {},
   "outputs": [
    {
     "name": "stdout",
     "output_type": "stream",
     "text": [
      "https://ycg3xmhjwj.execute-api.us-west-2.amazonaws.com/default/babooncomposition?t0=09:00:00&t1=09:05:00&t2=09:05:00&t3=09:10:00\n"
     ]
    }
   ],
   "source": [
    "print(url)"
   ]
  },
  {
   "cell_type": "code",
   "execution_count": 8,
   "metadata": {},
   "outputs": [
    {
     "name": "stdout",
     "output_type": "stream",
     "text": [
      "0.0,0.0,0,0,0.0\n"
     ]
    }
   ],
   "source": [
    "# obtain one moment of inertia value for the entire troupe using one minute of data\n",
    "import requests\n",
    "urlcomp = 'https://ycg3xmhjwj.execute-api.us-west-2.amazonaws.com/default/babooncomposition'\n",
    "t0 = 'a'\n",
    "t1 = 'b'\n",
    "t2 = 'c'\n",
    "t3 = 'd'\n",
    "url= urlcomp + '?t0={}&t1={}&t2={}&t3={}'.format(t0,t1,t2,t3)\n",
    "a = requests.get(url)\n",
    "print(a.content.decode('utf-8'))"
   ]
  },
  {
   "cell_type": "code",
   "execution_count": 40,
   "metadata": {},
   "outputs": [
    {
     "name": "stdout",
     "output_type": "stream",
     "text": [
      "[('1:00:00', '1:05:00', '1:05:00', '1:10:00'), ('1:10:00', '1:15:00', '1:15:00', '1:20:00'), ('1:20:00', '1:25:00', '1:25:00', '1:30:00'), ('1:30:00', '1:35:00', '1:35:00', '1:40:00'), ('1:40:00', '1:45:00', '1:45:00', '1:50:00'), ('1:50:00', '1:55:00', '1:55:00', '1:59:59')]\n",
      "https://ycg3xmhjwj.execute-api.us-west-2.amazonaws.com/default/babooncomposition?t0=1:00:00&t1=1:05:00&t2=1:05:00&t3=1:10:00\n",
      "finished 1:00:00 1:05:00 1:05:00 1:10:00\n",
      "https://ycg3xmhjwj.execute-api.us-west-2.amazonaws.com/default/babooncomposition?t0=1:10:00&t1=1:15:00&t2=1:15:00&t3=1:20:00\n",
      "finished 1:10:00 1:15:00 1:15:00 1:20:00\n",
      "https://ycg3xmhjwj.execute-api.us-west-2.amazonaws.com/default/babooncomposition?t0=1:20:00&t1=1:25:00&t2=1:25:00&t3=1:30:00\n",
      "finished 1:20:00 1:25:00 1:25:00 1:30:00\n",
      "https://ycg3xmhjwj.execute-api.us-west-2.amazonaws.com/default/babooncomposition?t0=1:30:00&t1=1:35:00&t2=1:35:00&t3=1:40:00\n",
      "finished 1:30:00 1:35:00 1:35:00 1:40:00\n",
      "https://ycg3xmhjwj.execute-api.us-west-2.amazonaws.com/default/babooncomposition?t0=1:40:00&t1=1:45:00&t2=1:45:00&t3=1:50:00\n",
      "finished 1:40:00 1:45:00 1:45:00 1:50:00\n",
      "https://ycg3xmhjwj.execute-api.us-west-2.amazonaws.com/default/babooncomposition?t0=1:50:00&t1=1:55:00&t2=1:55:00&t3=1:59:59\n",
      "finished 1:50:00 1:55:00 1:55:00 1:59:59\n",
      "[['39.338321151749554', '39.419525671178505', '3624', '3624', '0.6547117175012765'], ['39.61709020288303', '39.8963846086031', '3624', '3624', '0.6482930862757249'], ['39.922937592801766', '40.32256225568694', '3624', '3624', '0.38169418669968486'], ['40.76218465877229', '40.21590076136673', '3624', '3624', '0.8730079188329598'], ['39.34888602909693', '39.29239361421257', '3624', '3624', '0.1109099490433132'], ['38.10500114565416', '39.655844450953644', '3624', '3600', '2.7132324979226534']]\n"
     ]
    }
   ],
   "source": [
    "# run the full day\n",
    "import requests\n",
    "\n",
    "def TimeBuilder():\n",
    "    # Hour string begins '7', not '07' etc for single-digit hours\n",
    "    t = []\n",
    "    for i in range(24):\n",
    "        for j in range(6):\n",
    "            hrstring = str(i)\n",
    "            jj = j * 10\n",
    "            if jj == 0: minstring = '00'\n",
    "            else:       minstring = str(jj)\n",
    "            jjj = jj + 5\n",
    "            if jjj == 5: minstring1 = '05'\n",
    "            else:        minstring1 = str(jjj)\n",
    "            jjjj = jjj + 5\n",
    "            if jjjj < 60: \n",
    "                minstring2 = str(jjjj)\n",
    "                t3 = hrstring + ':' + minstring2 + ':00'\n",
    "            else: \n",
    "                t3 = hrstring + ':59:59'\n",
    "            t0 = hrstring + ':' + minstring + ':00'\n",
    "            t1 = hrstring + ':' + minstring1 + ':00'\n",
    "            t2 = hrstring + ':' + minstring1 + ':00'\n",
    "            # t3 = hrstring2 + ':' + minstring2 + ':00' bug where this fails to cross the hour boundary\n",
    "            \n",
    "            t.append((t0,t1,t2,t3))     # a tuple of four strings               \n",
    "    return t\n",
    "\n",
    "t = TimeBuilder()\n",
    "print(t)\n",
    "urlcomp = 'https://ycg3xmhjwj.execute-api.us-west-2.amazonaws.com/default/babooncomposition'\n",
    "myresults = []\n",
    "for time in t:\n",
    "    url= urlcomp + '?t0={}&t1={}&t2={}&t3={}'.format(time[0],time[1],time[2],time[3])\n",
    "    print(url)\n",
    "    a = requests.get(url)\n",
    "    myresults.append(a.content.decode(\"utf-8\").split(','))\n",
    "    print('finished', time[0], time[1], time[2], time[3])\n",
    "    \n",
    "with open('moimoispeed_5min_1day.txt', 'w') as f:\n",
    "    for item in myresults: f.write(\"%s\\n\" % item)\n",
    "        \n",
    "print(myresults)\n",
    "    "
   ]
  },
  {
   "cell_type": "code",
   "execution_count": null,
   "metadata": {},
   "outputs": [],
   "source": [
    "urlcomp = 'https://ycg3xmhjwj.execute-api.us-west-2.amazonaws.com/default/babooncomposition'\n",
    "t0 = '13:00:00'\n",
    "t1 = '13:05:00'\n",
    "t2 = '13:05:00'\n",
    "t3 = '13:10:00'\n",
    "url= urlcomp + '?t0={}&t1={}&t2={}&t3={}'.format(t0,t1,t2,t3)\n",
    "a = requests.get(url)\n",
    "print(a.content.decode('utf-8'))"
   ]
  }
 ],
 "metadata": {
  "kernelspec": {
   "display_name": "Python [conda root]",
   "language": "python",
   "name": "conda-root-py"
  },
  "language_info": {
   "codemirror_mode": {
    "name": "ipython",
    "version": 3
   },
   "file_extension": ".py",
   "mimetype": "text/x-python",
   "name": "python",
   "nbconvert_exporter": "python",
   "pygments_lexer": "ipython3",
   "version": "3.6.6"
  }
 },
 "nbformat": 4,
 "nbformat_minor": 2
}
