{
 "cells": [
  {
   "cell_type": "markdown",
   "metadata": {},
   "source": [
    "# Zero2API Client\n",
    "\n",
    "## Overview\n",
    "\n",
    "\n",
    "Our purpose here is to illustrate data access (query) against an openly published table: 26 baboons \n",
    "with position fixes (in meters) every two seconds for a day, approximately. We have two forms of \n",
    "access: A basic table interface and a 'derived product' interface. The latter calculates the relative\n",
    "dispersion of the baboon troop. \n",
    "\n",
    "\n",
    "The basic table-based API is used first. We'll call it `baboon1`. It supports queries over the four\n",
    "table columns: time range, x-coordinate, y-coordinate (so a spatial bounding box) and individual identifier. \n",
    "We ignore the bounding box for this demonstration.\n",
    "\n",
    "\n",
    "The second ('derived product') API was built separately from the first. In fact it makes use of the first \n",
    "`baboon1` interface to get its data. This is what we call *API composition*: Rather than make the basic \n",
    "API more complicated -- for example as we imagine new interesting calculations -- we push or compartmentalize \n",
    "the new calculation into other APIs.\n",
    "\n",
    "\n",
    "### First (basic) API examples"
   ]
  },
  {
   "cell_type": "code",
   "execution_count": null,
   "metadata": {},
   "outputs": [],
   "source": [
    "# libraries used for talking with the two APIs\n",
    "import pandas as pd\n",
    "import requests"
   ]
  },
  {
   "cell_type": "code",
   "execution_count": 43,
   "metadata": {},
   "outputs": [
    {
     "data": {
      "text/html": [
       "<div>\n",
       "<style scoped>\n",
       "    .dataframe tbody tr th:only-of-type {\n",
       "        vertical-align: middle;\n",
       "    }\n",
       "\n",
       "    .dataframe tbody tr th {\n",
       "        vertical-align: top;\n",
       "    }\n",
       "\n",
       "    .dataframe thead th {\n",
       "        text-align: right;\n",
       "    }\n",
       "</style>\n",
       "<table border=\"1\" class=\"dataframe\">\n",
       "  <thead>\n",
       "    <tr style=\"text-align: right;\">\n",
       "      <th></th>\n",
       "      <th>indiv</th>\n",
       "      <th>time</th>\n",
       "      <th>x</th>\n",
       "      <th>y</th>\n",
       "    </tr>\n",
       "  </thead>\n",
       "  <tbody>\n",
       "    <tr>\n",
       "      <th>0</th>\n",
       "      <td>10</td>\n",
       "      <td>0:03:04</td>\n",
       "      <td>-778.263144</td>\n",
       "      <td>428.061810</td>\n",
       "    </tr>\n",
       "    <tr>\n",
       "      <th>1</th>\n",
       "      <td>10</td>\n",
       "      <td>0:03:06</td>\n",
       "      <td>-778.207484</td>\n",
       "      <td>428.095205</td>\n",
       "    </tr>\n",
       "    <tr>\n",
       "      <th>2</th>\n",
       "      <td>10</td>\n",
       "      <td>0:03:08</td>\n",
       "      <td>-777.884659</td>\n",
       "      <td>428.351235</td>\n",
       "    </tr>\n",
       "    <tr>\n",
       "      <th>3</th>\n",
       "      <td>10</td>\n",
       "      <td>0:03:10</td>\n",
       "      <td>-777.795603</td>\n",
       "      <td>428.395762</td>\n",
       "    </tr>\n",
       "    <tr>\n",
       "      <th>4</th>\n",
       "      <td>10</td>\n",
       "      <td>0:03:12</td>\n",
       "      <td>-777.328063</td>\n",
       "      <td>428.362367</td>\n",
       "    </tr>\n",
       "    <tr>\n",
       "      <th>5</th>\n",
       "      <td>10</td>\n",
       "      <td>0:03:14</td>\n",
       "      <td>-777.072029</td>\n",
       "      <td>428.262181</td>\n",
       "    </tr>\n",
       "    <tr>\n",
       "      <th>6</th>\n",
       "      <td>10</td>\n",
       "      <td>0:03:16</td>\n",
       "      <td>-776.059025</td>\n",
       "      <td>428.707449</td>\n",
       "    </tr>\n",
       "    <tr>\n",
       "      <th>7</th>\n",
       "      <td>10</td>\n",
       "      <td>0:03:18</td>\n",
       "      <td>-775.112812</td>\n",
       "      <td>429.008006</td>\n",
       "    </tr>\n",
       "    <tr>\n",
       "      <th>8</th>\n",
       "      <td>10</td>\n",
       "      <td>0:03:20</td>\n",
       "      <td>-774.500557</td>\n",
       "      <td>429.130454</td>\n",
       "    </tr>\n",
       "    <tr>\n",
       "      <th>9</th>\n",
       "      <td>10</td>\n",
       "      <td>0:03:22</td>\n",
       "      <td>-773.220387</td>\n",
       "      <td>429.798357</td>\n",
       "    </tr>\n",
       "    <tr>\n",
       "      <th>10</th>\n",
       "      <td>10</td>\n",
       "      <td>0:03:24</td>\n",
       "      <td>-773.220387</td>\n",
       "      <td>429.653645</td>\n",
       "    </tr>\n",
       "  </tbody>\n",
       "</table>\n",
       "</div>"
      ],
      "text/plain": [
       "    indiv     time           x           y\n",
       "0      10  0:03:04 -778.263144  428.061810\n",
       "1      10  0:03:06 -778.207484  428.095205\n",
       "2      10  0:03:08 -777.884659  428.351235\n",
       "3      10  0:03:10 -777.795603  428.395762\n",
       "4      10  0:03:12 -777.328063  428.362367\n",
       "5      10  0:03:14 -777.072029  428.262181\n",
       "6      10  0:03:16 -776.059025  428.707449\n",
       "7      10  0:03:18 -775.112812  429.008006\n",
       "8      10  0:03:20 -774.500557  429.130454\n",
       "9      10  0:03:22 -773.220387  429.798357\n",
       "10     10  0:03:24 -773.220387  429.653645"
      ]
     },
     "execution_count": 43,
     "metadata": {},
     "output_type": "execute_result"
    }
   ],
   "source": [
    "# use the 'baboons1' interface to get 11 rows of data\n",
    "\n",
    "indiv = 10              # there are at least 38 GPS collars; we have here data for only 26 of them \n",
    "table = 'false'         # tabular data flag false means 'send the result as JSON'\n",
    "t0 = '0:02:52'          # Time range begins at 2 minutes 52 seconds; duration 32 seconds\n",
    "t1 = '0:03:24'          #   but only 22 seconds of data are returned\n",
    "\n",
    "baseURL = 'https://rlu4ch9a57.execute-api.us-west-2.amazonaws.com/default/baboon1'\n",
    "url     = baseURL + '?indiv={}&table={}&t0={}&t1={}'.format(indiv,table,t0,t1)\n",
    "\n",
    "a=pd.read_json(url)     # the url contains the details of the query; issued here\n",
    "a                       # the response is a pandas DataFrame with 11 rows of data"
   ]
  },
  {
   "cell_type": "code",
   "execution_count": 44,
   "metadata": {},
   "outputs": [
    {
     "name": "stdout",
     "output_type": "stream",
     "text": [
      "<class 'pandas.core.frame.DataFrame'> \n",
      "\n",
      "     indiv     time           x           y\n",
      "0      10  0:03:04 -778.263144  428.061810\n",
      "1      10  0:03:06 -778.207484  428.095205\n",
      "2      10  0:03:08 -777.884659  428.351235\n",
      "3      10  0:03:10 -777.795603  428.395762\n",
      "4      10  0:03:12 -777.328063  428.362367\n",
      "5      10  0:03:14 -777.072029  428.262181\n",
      "6      10  0:03:16 -776.059025  428.707449\n",
      "7      10  0:03:18 -775.112812  429.008006\n",
      "8      10  0:03:20 -774.500557  429.130454\n",
      "9      10  0:03:22 -773.220387  429.798357\n",
      "10     10  0:03:24 -773.220387  429.653645 \n",
      "\n",
      " RangeIndex(start=0, stop=11, step=1) \n",
      "\n",
      " Index(['indiv', 'time', 'x', 'y'], dtype='object') \n",
      "\n",
      " 0     0:03:04\n",
      "1     0:03:06\n",
      "2     0:03:08\n",
      "3     0:03:10\n",
      "4     0:03:12\n",
      "5     0:03:14\n",
      "6     0:03:16\n",
      "7     0:03:18\n",
      "8     0:03:20\n",
      "9     0:03:22\n",
      "10    0:03:24\n",
      "Name: time, dtype: object \n",
      "\n",
      " 0   -778.263144\n",
      "1   -778.207484\n",
      "2   -777.884659\n",
      "Name: x, dtype: float64\n"
     ]
    }
   ],
   "source": [
    "# This illustrates some pandas DataFrame attributes\n",
    "\n",
    "print(type(a), '\\n\\n', a, '\\n\\n', a.index, '\\n\\n', a.columns, '\\n\\n', a['time'], '\\n\\n', a['x'][0:3])"
   ]
  },
  {
   "cell_type": "code",
   "execution_count": 45,
   "metadata": {},
   "outputs": [],
   "source": [
    "# test cell: try various types of query including bounding box (not working yet)\n",
    "\n",
    "indiv = 10\n",
    "table = 'false'\n",
    "t0 = '0:02:52'\n",
    "t1 = '0:03:24'\n",
    "x0 = -770.\n",
    "x1 = -780.\n",
    "y0 =  430.\n",
    "y1 =  420.\n",
    "\n",
    "# full scan\n",
    "# url = baseURL + '?indiv={}&table={}&t0={}&t1={}&x0={}&x1={}&y0={}&y1={}'.format(indiv,table,t0,t1,x0,x1,y1,y0)\n",
    "\n",
    "# scan sans indiv\n",
    "# url = baseURL + '?table={}&t0={}&t1={}&x0={}&x1={}&y0={}&y1={}'.format(table,t0,t1,x0,x1,y1,y0)\n",
    "\n",
    "# query indiv and time: Working\n",
    "# url = baseURL + '?indiv={}&table={}&t0={}&t1={}'.format(indiv,table,t0,t1)\n",
    "\n",
    "# url = baseURL + '?table={}&t0={}&t1={}'.format(table,t0,t1)\n",
    "# url = baseURL + '?indiv={}&table={}'.format(indiv,table)\n",
    "\n",
    "# a=pd.read_json(url)\n",
    "# print(url, '\\n\\n', a)"
   ]
  },
  {
   "cell_type": "markdown",
   "metadata": {},
   "source": [
    "### Second (moment of inertia) API example"
   ]
  },
  {
   "cell_type": "code",
   "execution_count": 46,
   "metadata": {},
   "outputs": [
    {
     "name": "stdout",
     "output_type": "stream",
     "text": [
      "moi is 10.30867843517405 from 775 locations\n"
     ]
    }
   ],
   "source": [
    "# obtain one moment of inertia value for the entire troupe using one minute of data\n",
    "\n",
    "urlcomp = 'https://ycg3xmhjwj.execute-api.us-west-2.amazonaws.com/default/babooncomposition'\n",
    "t0 = '11:00:00'\n",
    "t1 = '11:01:00'\n",
    "url= urlcomp + '?moi=true&t0={}&t1={}'.format(t0,t1)\n",
    "a = requests.get(url)\n",
    "print(a.content.decode('utf-8'))"
   ]
  },
  {
   "cell_type": "code",
   "execution_count": 47,
   "metadata": {},
   "outputs": [
    {
     "name": "stdout",
     "output_type": "stream",
     "text": [
      "moi is 0.0 from 0 locations\n"
     ]
    }
   ],
   "source": [
    "# test a bad query (the times t0 and t1 are not usable)\n",
    "#   this should produce 'zero' or some sort of fail signal\n",
    "\n",
    "urlcomp = 'https://ycg3xmhjwj.execute-api.us-west-2.amazonaws.com/default/babooncomposition'\n",
    "t0 = 'abcd'\n",
    "t1 = 'efgh'\n",
    "url= urlcomp + '?moi=true&t0={}&t1={}'.format(t0,t1)\n",
    "a = requests.get(url)\n",
    "print(a.content.decode('utf-8'))"
   ]
  },
  {
   "cell_type": "code",
   "execution_count": 48,
   "metadata": {},
   "outputs": [
    {
     "name": "stdout",
     "output_type": "stream",
     "text": [
      "[47.24668210047696, 47.71861072775954, 48.92386733276165, 49.34812811013475, 48.8155080002324, 47.06645781119527, 49.71762649918903, 70.1851986629111, 84.94120700100285, 78.46260152031512, 66.99084135228593, 74.55004855452188, 86.66621643361388, 92.59470487945826, 90.57328670073204, 74.01396790676765, 55.93187417612399, 32.35153076898543, 20.589211909522685, 16.512057140423554]\n"
     ]
    }
   ],
   "source": [
    "# Loop over one hour in three-minute intervals to produce 20 moments of inertia\n",
    "\n",
    "urlcomp = 'https://ycg3xmhjwj.execute-api.us-west-2.amazonaws.com/default/babooncomposition'\n",
    "b=[]\n",
    "for i in range(20):\n",
    "    mymin0 = i * 3\n",
    "    mymin1 = mymin0 + 3\n",
    "    if mymin0 < 10: mymin0string = '0' + str(mymin0)\n",
    "    else:           mymin0string = str(mymin0)\n",
    "    if mymin1 < 10: mymin1string = '0' + str(mymin1)\n",
    "    else:           mymin1string = str(mymin1)\n",
    "    t0 = '4:' + mymin0string + ':00'\n",
    "    t1 = '4:' + mymin1string + ':00'\n",
    "    if t1 == '4:60:00': t1 = '5:00:00'\n",
    "    url= urlcomp + '?moi=true&t0={}&t1={}'.format(t0,t1)\n",
    "    a = requests.get(url)\n",
    "    b.append(float(a.content.decode(\"utf-8\").split(' ')[2]))\n",
    "\n",
    "print(b)"
   ]
  },
  {
   "cell_type": "code",
   "execution_count": 32,
   "metadata": {},
   "outputs": [],
   "source": [
    "# write as text file the accumulated moi values\n",
    "\n",
    "with open('hour4_3min_moi_values.txt', 'w') as f:\n",
    "    for item in b: f.write(\"%s\\n\" % item)"
   ]
  }
 ],
 "metadata": {
  "kernelspec": {
   "display_name": "Python [conda root]",
   "language": "python",
   "name": "conda-root-py"
  },
  "language_info": {
   "codemirror_mode": {
    "name": "ipython",
    "version": 3
   },
   "file_extension": ".py",
   "mimetype": "text/x-python",
   "name": "python",
   "nbconvert_exporter": "python",
   "pygments_lexer": "ipython3",
   "version": "3.6.6"
  }
 },
 "nbformat": 4,
 "nbformat_minor": 2
}
